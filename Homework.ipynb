{
  "cells": [
    {
      "cell_type": "markdown",
      "metadata": {
        "id": "view-in-github",
        "colab_type": "text"
      },
      "source": [
        "<a href=\"https://colab.research.google.com/github/khagfy/literate-course/blob/master/Homework.ipynb\" target=\"_parent\"><img src=\"https://colab.research.google.com/assets/colab-badge.svg\" alt=\"Open In Colab\"/></a>"
      ]
    },
    {
      "cell_type": "markdown",
      "source": [
        "Author: Zulaikha"
      ],
      "metadata": {
        "id": "SBpVjDkAPU2b"
      },
      "id": "SBpVjDkAPU2b"
    },
    {
      "cell_type": "markdown",
      "id": "abf05cad",
      "metadata": {
        "id": "abf05cad"
      },
      "source": [
        "# Import Libraries"
      ]
    },
    {
      "cell_type": "code",
      "execution_count": 1,
      "id": "895f458c",
      "metadata": {
        "id": "895f458c"
      },
      "outputs": [],
      "source": [
        "import pandas as pd\n",
        "import seaborn as sns\n",
        "import matplotlib.pyplot as plt\n",
        "import numpy as np\n",
        "import seaborn as sns"
      ]
    },
    {
      "cell_type": "markdown",
      "id": "baa49998",
      "metadata": {
        "id": "baa49998"
      },
      "source": [
        "# Load Dataset"
      ]
    },
    {
      "cell_type": "code",
      "execution_count": 2,
      "id": "477624e1",
      "metadata": {
        "id": "477624e1"
      },
      "outputs": [],
      "source": [
        "df = pd.read_csv(\"loan_customer.csv\")"
      ]
    },
    {
      "cell_type": "code",
      "execution_count": 3,
      "id": "f5521bd2",
      "metadata": {
        "id": "f5521bd2",
        "outputId": "308eb85a-13bb-4af1-a028-b1a3b45681b1",
        "colab": {
          "base_uri": "https://localhost:8080/",
          "height": 287
        }
      },
      "outputs": [
        {
          "output_type": "execute_result",
          "data": {
            "text/plain": [
              "    loan_id  birth_date  phone_number gender married dependents     education  \\\n",
              "0  LP001002  1977-05-15  6.281142e+11   Male      No          0      Graduate   \n",
              "1  LP001003  1979-08-24  6.287764e+11   Male     Yes          1      Graduate   \n",
              "2  LP001005  1991-03-28  6.281192e+11   Male     Yes          0      Graduate   \n",
              "3  LP001006  1980-06-02  6.285634e+10   Male     Yes          0  Not Graduate   \n",
              "4  LP001008  1989-05-19  6.281130e+11   Male      No          0      Graduate   \n",
              "\n",
              "  self_employed  applicant_income  coapplicant_income  loan_amount  \\\n",
              "0            No            5849.0                 0.0       100000   \n",
              "1            No            4583.0              1508.0       128000   \n",
              "2           Yes            3000.0                 0.0        66000   \n",
              "3            No            2583.0              2358.0       120000   \n",
              "4            No            6000.0                 0.0       141000   \n",
              "\n",
              "   loan_term_month  loan_term_year  credit_history has_credit_card  \\\n",
              "0              360              30             1.0             NaN   \n",
              "1              360              30             1.0             NaN   \n",
              "2              360              30             1.0             NaN   \n",
              "3              360              30             1.0             NaN   \n",
              "4              360              30             1.0             NaN   \n",
              "\n",
              "  property_type loan_status  \n",
              "0         house     APPROVE  \n",
              "1        studio      REJECT  \n",
              "2         house     APPROVE  \n",
              "3         house     APPROVE  \n",
              "4         house     APPROVE  "
            ],
            "text/html": [
              "\n",
              "  <div id=\"df-33fbfe7e-d908-4d41-a8da-bbe23341aef8\">\n",
              "    <div class=\"colab-df-container\">\n",
              "      <div>\n",
              "<style scoped>\n",
              "    .dataframe tbody tr th:only-of-type {\n",
              "        vertical-align: middle;\n",
              "    }\n",
              "\n",
              "    .dataframe tbody tr th {\n",
              "        vertical-align: top;\n",
              "    }\n",
              "\n",
              "    .dataframe thead th {\n",
              "        text-align: right;\n",
              "    }\n",
              "</style>\n",
              "<table border=\"1\" class=\"dataframe\">\n",
              "  <thead>\n",
              "    <tr style=\"text-align: right;\">\n",
              "      <th></th>\n",
              "      <th>loan_id</th>\n",
              "      <th>birth_date</th>\n",
              "      <th>phone_number</th>\n",
              "      <th>gender</th>\n",
              "      <th>married</th>\n",
              "      <th>dependents</th>\n",
              "      <th>education</th>\n",
              "      <th>self_employed</th>\n",
              "      <th>applicant_income</th>\n",
              "      <th>coapplicant_income</th>\n",
              "      <th>loan_amount</th>\n",
              "      <th>loan_term_month</th>\n",
              "      <th>loan_term_year</th>\n",
              "      <th>credit_history</th>\n",
              "      <th>has_credit_card</th>\n",
              "      <th>property_type</th>\n",
              "      <th>loan_status</th>\n",
              "    </tr>\n",
              "  </thead>\n",
              "  <tbody>\n",
              "    <tr>\n",
              "      <th>0</th>\n",
              "      <td>LP001002</td>\n",
              "      <td>1977-05-15</td>\n",
              "      <td>6.281142e+11</td>\n",
              "      <td>Male</td>\n",
              "      <td>No</td>\n",
              "      <td>0</td>\n",
              "      <td>Graduate</td>\n",
              "      <td>No</td>\n",
              "      <td>5849.0</td>\n",
              "      <td>0.0</td>\n",
              "      <td>100000</td>\n",
              "      <td>360</td>\n",
              "      <td>30</td>\n",
              "      <td>1.0</td>\n",
              "      <td>NaN</td>\n",
              "      <td>house</td>\n",
              "      <td>APPROVE</td>\n",
              "    </tr>\n",
              "    <tr>\n",
              "      <th>1</th>\n",
              "      <td>LP001003</td>\n",
              "      <td>1979-08-24</td>\n",
              "      <td>6.287764e+11</td>\n",
              "      <td>Male</td>\n",
              "      <td>Yes</td>\n",
              "      <td>1</td>\n",
              "      <td>Graduate</td>\n",
              "      <td>No</td>\n",
              "      <td>4583.0</td>\n",
              "      <td>1508.0</td>\n",
              "      <td>128000</td>\n",
              "      <td>360</td>\n",
              "      <td>30</td>\n",
              "      <td>1.0</td>\n",
              "      <td>NaN</td>\n",
              "      <td>studio</td>\n",
              "      <td>REJECT</td>\n",
              "    </tr>\n",
              "    <tr>\n",
              "      <th>2</th>\n",
              "      <td>LP001005</td>\n",
              "      <td>1991-03-28</td>\n",
              "      <td>6.281192e+11</td>\n",
              "      <td>Male</td>\n",
              "      <td>Yes</td>\n",
              "      <td>0</td>\n",
              "      <td>Graduate</td>\n",
              "      <td>Yes</td>\n",
              "      <td>3000.0</td>\n",
              "      <td>0.0</td>\n",
              "      <td>66000</td>\n",
              "      <td>360</td>\n",
              "      <td>30</td>\n",
              "      <td>1.0</td>\n",
              "      <td>NaN</td>\n",
              "      <td>house</td>\n",
              "      <td>APPROVE</td>\n",
              "    </tr>\n",
              "    <tr>\n",
              "      <th>3</th>\n",
              "      <td>LP001006</td>\n",
              "      <td>1980-06-02</td>\n",
              "      <td>6.285634e+10</td>\n",
              "      <td>Male</td>\n",
              "      <td>Yes</td>\n",
              "      <td>0</td>\n",
              "      <td>Not Graduate</td>\n",
              "      <td>No</td>\n",
              "      <td>2583.0</td>\n",
              "      <td>2358.0</td>\n",
              "      <td>120000</td>\n",
              "      <td>360</td>\n",
              "      <td>30</td>\n",
              "      <td>1.0</td>\n",
              "      <td>NaN</td>\n",
              "      <td>house</td>\n",
              "      <td>APPROVE</td>\n",
              "    </tr>\n",
              "    <tr>\n",
              "      <th>4</th>\n",
              "      <td>LP001008</td>\n",
              "      <td>1989-05-19</td>\n",
              "      <td>6.281130e+11</td>\n",
              "      <td>Male</td>\n",
              "      <td>No</td>\n",
              "      <td>0</td>\n",
              "      <td>Graduate</td>\n",
              "      <td>No</td>\n",
              "      <td>6000.0</td>\n",
              "      <td>0.0</td>\n",
              "      <td>141000</td>\n",
              "      <td>360</td>\n",
              "      <td>30</td>\n",
              "      <td>1.0</td>\n",
              "      <td>NaN</td>\n",
              "      <td>house</td>\n",
              "      <td>APPROVE</td>\n",
              "    </tr>\n",
              "  </tbody>\n",
              "</table>\n",
              "</div>\n",
              "      <button class=\"colab-df-convert\" onclick=\"convertToInteractive('df-33fbfe7e-d908-4d41-a8da-bbe23341aef8')\"\n",
              "              title=\"Convert this dataframe to an interactive table.\"\n",
              "              style=\"display:none;\">\n",
              "        \n",
              "  <svg xmlns=\"http://www.w3.org/2000/svg\" height=\"24px\"viewBox=\"0 0 24 24\"\n",
              "       width=\"24px\">\n",
              "    <path d=\"M0 0h24v24H0V0z\" fill=\"none\"/>\n",
              "    <path d=\"M18.56 5.44l.94 2.06.94-2.06 2.06-.94-2.06-.94-.94-2.06-.94 2.06-2.06.94zm-11 1L8.5 8.5l.94-2.06 2.06-.94-2.06-.94L8.5 2.5l-.94 2.06-2.06.94zm10 10l.94 2.06.94-2.06 2.06-.94-2.06-.94-.94-2.06-.94 2.06-2.06.94z\"/><path d=\"M17.41 7.96l-1.37-1.37c-.4-.4-.92-.59-1.43-.59-.52 0-1.04.2-1.43.59L10.3 9.45l-7.72 7.72c-.78.78-.78 2.05 0 2.83L4 21.41c.39.39.9.59 1.41.59.51 0 1.02-.2 1.41-.59l7.78-7.78 2.81-2.81c.8-.78.8-2.07 0-2.86zM5.41 20L4 18.59l7.72-7.72 1.47 1.35L5.41 20z\"/>\n",
              "  </svg>\n",
              "      </button>\n",
              "      \n",
              "  <style>\n",
              "    .colab-df-container {\n",
              "      display:flex;\n",
              "      flex-wrap:wrap;\n",
              "      gap: 12px;\n",
              "    }\n",
              "\n",
              "    .colab-df-convert {\n",
              "      background-color: #E8F0FE;\n",
              "      border: none;\n",
              "      border-radius: 50%;\n",
              "      cursor: pointer;\n",
              "      display: none;\n",
              "      fill: #1967D2;\n",
              "      height: 32px;\n",
              "      padding: 0 0 0 0;\n",
              "      width: 32px;\n",
              "    }\n",
              "\n",
              "    .colab-df-convert:hover {\n",
              "      background-color: #E2EBFA;\n",
              "      box-shadow: 0px 1px 2px rgba(60, 64, 67, 0.3), 0px 1px 3px 1px rgba(60, 64, 67, 0.15);\n",
              "      fill: #174EA6;\n",
              "    }\n",
              "\n",
              "    [theme=dark] .colab-df-convert {\n",
              "      background-color: #3B4455;\n",
              "      fill: #D2E3FC;\n",
              "    }\n",
              "\n",
              "    [theme=dark] .colab-df-convert:hover {\n",
              "      background-color: #434B5C;\n",
              "      box-shadow: 0px 1px 3px 1px rgba(0, 0, 0, 0.15);\n",
              "      filter: drop-shadow(0px 1px 2px rgba(0, 0, 0, 0.3));\n",
              "      fill: #FFFFFF;\n",
              "    }\n",
              "  </style>\n",
              "\n",
              "      <script>\n",
              "        const buttonEl =\n",
              "          document.querySelector('#df-33fbfe7e-d908-4d41-a8da-bbe23341aef8 button.colab-df-convert');\n",
              "        buttonEl.style.display =\n",
              "          google.colab.kernel.accessAllowed ? 'block' : 'none';\n",
              "\n",
              "        async function convertToInteractive(key) {\n",
              "          const element = document.querySelector('#df-33fbfe7e-d908-4d41-a8da-bbe23341aef8');\n",
              "          const dataTable =\n",
              "            await google.colab.kernel.invokeFunction('convertToInteractive',\n",
              "                                                     [key], {});\n",
              "          if (!dataTable) return;\n",
              "\n",
              "          const docLinkHtml = 'Like what you see? Visit the ' +\n",
              "            '<a target=\"_blank\" href=https://colab.research.google.com/notebooks/data_table.ipynb>data table notebook</a>'\n",
              "            + ' to learn more about interactive tables.';\n",
              "          element.innerHTML = '';\n",
              "          dataTable['output_type'] = 'display_data';\n",
              "          await google.colab.output.renderOutput(dataTable, element);\n",
              "          const docLink = document.createElement('div');\n",
              "          docLink.innerHTML = docLinkHtml;\n",
              "          element.appendChild(docLink);\n",
              "        }\n",
              "      </script>\n",
              "    </div>\n",
              "  </div>\n",
              "  "
            ]
          },
          "metadata": {},
          "execution_count": 3
        }
      ],
      "source": [
        "df.head()"
      ]
    },
    {
      "cell_type": "code",
      "execution_count": 4,
      "id": "742e26b5",
      "metadata": {
        "id": "742e26b5",
        "outputId": "4b741a63-fd5f-4e3b-834d-b567acde50a3",
        "colab": {
          "base_uri": "https://localhost:8080/"
        }
      },
      "outputs": [
        {
          "output_type": "stream",
          "name": "stdout",
          "text": [
            "<class 'pandas.core.frame.DataFrame'>\n",
            "RangeIndex: 621 entries, 0 to 620\n",
            "Data columns (total 17 columns):\n",
            " #   Column              Non-Null Count  Dtype  \n",
            "---  ------              --------------  -----  \n",
            " 0   loan_id             621 non-null    object \n",
            " 1   birth_date          572 non-null    object \n",
            " 2   phone_number        569 non-null    float64\n",
            " 3   gender              608 non-null    object \n",
            " 4   married             618 non-null    object \n",
            " 5   dependents          605 non-null    object \n",
            " 6   education           620 non-null    object \n",
            " 7   self_employed       588 non-null    object \n",
            " 8   applicant_income    612 non-null    float64\n",
            " 9   coapplicant_income  621 non-null    float64\n",
            " 10  loan_amount         621 non-null    int64  \n",
            " 11  loan_term_month     621 non-null    int64  \n",
            " 12  loan_term_year      621 non-null    int64  \n",
            " 13  credit_history      570 non-null    float64\n",
            " 14  has_credit_card     88 non-null     object \n",
            " 15  property_type       620 non-null    object \n",
            " 16  loan_status         621 non-null    object \n",
            "dtypes: float64(4), int64(3), object(10)\n",
            "memory usage: 82.6+ KB\n"
          ]
        }
      ],
      "source": [
        "df.info()"
      ]
    },
    {
      "cell_type": "markdown",
      "id": "90383350",
      "metadata": {
        "id": "90383350"
      },
      "source": [
        "Pengamatan\\:\n",
        "1. Data terdiri dari 621 baris\n",
        "2. Tampak beberapa kolom masih memiliki null/missing values (Non-Null Count < jumlah baris)\n",
        "3. Tipe kolom birth_date memiliki tipe yang salah, sedangkan kolom lainnya sepertinya tidak ada issue yang mencolok pada tipe data (sudah sesuai)"
      ]
    },
    {
      "cell_type": "markdown",
      "id": "7c0e3893",
      "metadata": {
        "id": "7c0e3893"
      },
      "source": [
        "# Data Cleansing"
      ]
    },
    {
      "cell_type": "markdown",
      "id": "dc4032a4",
      "metadata": {
        "id": "dc4032a4"
      },
      "source": [
        "## Handling missing values"
      ]
    },
    {
      "cell_type": "markdown",
      "id": "a8cd49de",
      "metadata": {
        "id": "a8cd49de"
      },
      "source": [
        "### Cek apakah terdapat data yang kosong"
      ]
    },
    {
      "cell_type": "code",
      "execution_count": 5,
      "id": "50f54afe",
      "metadata": {
        "id": "50f54afe",
        "outputId": "76caddd9-4126-4d16-87fa-20750db25133",
        "colab": {
          "base_uri": "https://localhost:8080/"
        }
      },
      "outputs": [
        {
          "output_type": "execute_result",
          "data": {
            "text/plain": [
              "loan_id                 0\n",
              "birth_date             49\n",
              "phone_number           52\n",
              "gender                 13\n",
              "married                 3\n",
              "dependents             16\n",
              "education               1\n",
              "self_employed          33\n",
              "applicant_income        9\n",
              "coapplicant_income      0\n",
              "loan_amount             0\n",
              "loan_term_month         0\n",
              "loan_term_year          0\n",
              "credit_history         51\n",
              "has_credit_card       533\n",
              "property_type           1\n",
              "loan_status             0\n",
              "dtype: int64"
            ]
          },
          "metadata": {},
          "execution_count": 5
        }
      ],
      "source": [
        "df.isnull().sum()"
      ]
    },
    {
      "cell_type": "code",
      "execution_count": 6,
      "id": "a298c546",
      "metadata": {
        "id": "a298c546"
      },
      "outputs": [],
      "source": [
        "df['birth_date']= pd.to_datetime(df['birth_date'])"
      ]
    },
    {
      "cell_type": "code",
      "execution_count": 7,
      "id": "5bf6374d",
      "metadata": {
        "id": "5bf6374d",
        "outputId": "4bf43e81-d85a-4724-fea5-37e031017ddc",
        "colab": {
          "base_uri": "https://localhost:8080/"
        }
      },
      "outputs": [
        {
          "output_type": "stream",
          "name": "stdout",
          "text": [
            "<class 'pandas.core.frame.DataFrame'>\n",
            "RangeIndex: 621 entries, 0 to 620\n",
            "Data columns (total 17 columns):\n",
            " #   Column              Non-Null Count  Dtype         \n",
            "---  ------              --------------  -----         \n",
            " 0   loan_id             621 non-null    object        \n",
            " 1   birth_date          572 non-null    datetime64[ns]\n",
            " 2   phone_number        569 non-null    float64       \n",
            " 3   gender              608 non-null    object        \n",
            " 4   married             618 non-null    object        \n",
            " 5   dependents          605 non-null    object        \n",
            " 6   education           620 non-null    object        \n",
            " 7   self_employed       588 non-null    object        \n",
            " 8   applicant_income    612 non-null    float64       \n",
            " 9   coapplicant_income  621 non-null    float64       \n",
            " 10  loan_amount         621 non-null    int64         \n",
            " 11  loan_term_month     621 non-null    int64         \n",
            " 12  loan_term_year      621 non-null    int64         \n",
            " 13  credit_history      570 non-null    float64       \n",
            " 14  has_credit_card     88 non-null     object        \n",
            " 15  property_type       620 non-null    object        \n",
            " 16  loan_status         621 non-null    object        \n",
            "dtypes: datetime64[ns](1), float64(4), int64(3), object(9)\n",
            "memory usage: 82.6+ KB\n"
          ]
        }
      ],
      "source": [
        "df.info()"
      ]
    },
    {
      "cell_type": "markdown",
      "id": "d5e03362",
      "metadata": {
        "id": "d5e03362"
      },
      "source": [
        "### Jika ada kolom dengan data kosong yang sangat banyak, maka kolom tersebut bisa dihapus aja"
      ]
    },
    {
      "cell_type": "code",
      "execution_count": 8,
      "id": "a0f316d8",
      "metadata": {
        "id": "a0f316d8"
      },
      "outputs": [],
      "source": [
        "df.drop('has_credit_card', axis=1, inplace=True)"
      ]
    },
    {
      "cell_type": "code",
      "execution_count": 9,
      "id": "140a4324",
      "metadata": {
        "id": "140a4324",
        "outputId": "7c185490-38b1-49b5-d3af-aeb3ad1ee201",
        "colab": {
          "base_uri": "https://localhost:8080/",
          "height": 505
        }
      },
      "outputs": [
        {
          "output_type": "execute_result",
          "data": {
            "text/plain": [
              "      loan_id birth_date  phone_number  gender married dependents  \\\n",
              "0    LP001002 1977-05-15  6.281142e+11    Male      No          0   \n",
              "1    LP001003 1979-08-24  6.287764e+11    Male     Yes          1   \n",
              "2    LP001005 1991-03-28  6.281192e+11    Male     Yes          0   \n",
              "3    LP001006 1980-06-02  6.285634e+10    Male     Yes          0   \n",
              "4    LP001008 1989-05-19  6.281130e+11    Male      No          0   \n",
              "..        ...        ...           ...     ...     ...        ...   \n",
              "616  LP002978 1976-03-25  6.285650e+11  Female      No          0   \n",
              "617  LP002979 1987-01-26  6.281165e+11    Male     Yes         3+   \n",
              "618  LP002983 1982-03-08  6.281158e+11    Male     Yes          1   \n",
              "619  LP002984 1986-12-05  6.281196e+11    Male     Yes          2   \n",
              "620  LP002990        NaT  6.281396e+11  Female      No          0   \n",
              "\n",
              "        education self_employed  applicant_income  coapplicant_income  \\\n",
              "0        Graduate            No            5849.0                 0.0   \n",
              "1        Graduate            No            4583.0              1508.0   \n",
              "2        Graduate           Yes            3000.0                 0.0   \n",
              "3    Not Graduate            No            2583.0              2358.0   \n",
              "4        Graduate            No            6000.0                 0.0   \n",
              "..            ...           ...               ...                 ...   \n",
              "616      Graduate            No            2900.0                 0.0   \n",
              "617      Graduate            No            4106.0                 0.0   \n",
              "618      Graduate            No            8072.0               240.0   \n",
              "619      Graduate            No            7583.0                 0.0   \n",
              "620      Graduate           Yes            4583.0                 0.0   \n",
              "\n",
              "     loan_amount  loan_term_month  loan_term_year  credit_history  \\\n",
              "0         100000              360              30             1.0   \n",
              "1         128000              360              30             1.0   \n",
              "2          66000              360              30             1.0   \n",
              "3         120000              360              30             1.0   \n",
              "4         141000              360              30             1.0   \n",
              "..           ...              ...             ...             ...   \n",
              "616        71000              360              30             1.0   \n",
              "617        40000              180              15             1.0   \n",
              "618       253000              360              30             1.0   \n",
              "619       187000              360              30             1.0   \n",
              "620       133000              360              30             0.0   \n",
              "\n",
              "    property_type loan_status  \n",
              "0           house     APPROVE  \n",
              "1          studio      REJECT  \n",
              "2           house     APPROVE  \n",
              "3           house     APPROVE  \n",
              "4           house     APPROVE  \n",
              "..            ...         ...  \n",
              "616        studio     APPROVE  \n",
              "617        studio     APPROVE  \n",
              "618         house     APPROVE  \n",
              "619         house     APPROVE  \n",
              "620     apartment      REJECT  \n",
              "\n",
              "[621 rows x 16 columns]"
            ],
            "text/html": [
              "\n",
              "  <div id=\"df-1ba77e69-cb19-48f4-a4b9-5f00df3ccaa5\">\n",
              "    <div class=\"colab-df-container\">\n",
              "      <div>\n",
              "<style scoped>\n",
              "    .dataframe tbody tr th:only-of-type {\n",
              "        vertical-align: middle;\n",
              "    }\n",
              "\n",
              "    .dataframe tbody tr th {\n",
              "        vertical-align: top;\n",
              "    }\n",
              "\n",
              "    .dataframe thead th {\n",
              "        text-align: right;\n",
              "    }\n",
              "</style>\n",
              "<table border=\"1\" class=\"dataframe\">\n",
              "  <thead>\n",
              "    <tr style=\"text-align: right;\">\n",
              "      <th></th>\n",
              "      <th>loan_id</th>\n",
              "      <th>birth_date</th>\n",
              "      <th>phone_number</th>\n",
              "      <th>gender</th>\n",
              "      <th>married</th>\n",
              "      <th>dependents</th>\n",
              "      <th>education</th>\n",
              "      <th>self_employed</th>\n",
              "      <th>applicant_income</th>\n",
              "      <th>coapplicant_income</th>\n",
              "      <th>loan_amount</th>\n",
              "      <th>loan_term_month</th>\n",
              "      <th>loan_term_year</th>\n",
              "      <th>credit_history</th>\n",
              "      <th>property_type</th>\n",
              "      <th>loan_status</th>\n",
              "    </tr>\n",
              "  </thead>\n",
              "  <tbody>\n",
              "    <tr>\n",
              "      <th>0</th>\n",
              "      <td>LP001002</td>\n",
              "      <td>1977-05-15</td>\n",
              "      <td>6.281142e+11</td>\n",
              "      <td>Male</td>\n",
              "      <td>No</td>\n",
              "      <td>0</td>\n",
              "      <td>Graduate</td>\n",
              "      <td>No</td>\n",
              "      <td>5849.0</td>\n",
              "      <td>0.0</td>\n",
              "      <td>100000</td>\n",
              "      <td>360</td>\n",
              "      <td>30</td>\n",
              "      <td>1.0</td>\n",
              "      <td>house</td>\n",
              "      <td>APPROVE</td>\n",
              "    </tr>\n",
              "    <tr>\n",
              "      <th>1</th>\n",
              "      <td>LP001003</td>\n",
              "      <td>1979-08-24</td>\n",
              "      <td>6.287764e+11</td>\n",
              "      <td>Male</td>\n",
              "      <td>Yes</td>\n",
              "      <td>1</td>\n",
              "      <td>Graduate</td>\n",
              "      <td>No</td>\n",
              "      <td>4583.0</td>\n",
              "      <td>1508.0</td>\n",
              "      <td>128000</td>\n",
              "      <td>360</td>\n",
              "      <td>30</td>\n",
              "      <td>1.0</td>\n",
              "      <td>studio</td>\n",
              "      <td>REJECT</td>\n",
              "    </tr>\n",
              "    <tr>\n",
              "      <th>2</th>\n",
              "      <td>LP001005</td>\n",
              "      <td>1991-03-28</td>\n",
              "      <td>6.281192e+11</td>\n",
              "      <td>Male</td>\n",
              "      <td>Yes</td>\n",
              "      <td>0</td>\n",
              "      <td>Graduate</td>\n",
              "      <td>Yes</td>\n",
              "      <td>3000.0</td>\n",
              "      <td>0.0</td>\n",
              "      <td>66000</td>\n",
              "      <td>360</td>\n",
              "      <td>30</td>\n",
              "      <td>1.0</td>\n",
              "      <td>house</td>\n",
              "      <td>APPROVE</td>\n",
              "    </tr>\n",
              "    <tr>\n",
              "      <th>3</th>\n",
              "      <td>LP001006</td>\n",
              "      <td>1980-06-02</td>\n",
              "      <td>6.285634e+10</td>\n",
              "      <td>Male</td>\n",
              "      <td>Yes</td>\n",
              "      <td>0</td>\n",
              "      <td>Not Graduate</td>\n",
              "      <td>No</td>\n",
              "      <td>2583.0</td>\n",
              "      <td>2358.0</td>\n",
              "      <td>120000</td>\n",
              "      <td>360</td>\n",
              "      <td>30</td>\n",
              "      <td>1.0</td>\n",
              "      <td>house</td>\n",
              "      <td>APPROVE</td>\n",
              "    </tr>\n",
              "    <tr>\n",
              "      <th>4</th>\n",
              "      <td>LP001008</td>\n",
              "      <td>1989-05-19</td>\n",
              "      <td>6.281130e+11</td>\n",
              "      <td>Male</td>\n",
              "      <td>No</td>\n",
              "      <td>0</td>\n",
              "      <td>Graduate</td>\n",
              "      <td>No</td>\n",
              "      <td>6000.0</td>\n",
              "      <td>0.0</td>\n",
              "      <td>141000</td>\n",
              "      <td>360</td>\n",
              "      <td>30</td>\n",
              "      <td>1.0</td>\n",
              "      <td>house</td>\n",
              "      <td>APPROVE</td>\n",
              "    </tr>\n",
              "    <tr>\n",
              "      <th>...</th>\n",
              "      <td>...</td>\n",
              "      <td>...</td>\n",
              "      <td>...</td>\n",
              "      <td>...</td>\n",
              "      <td>...</td>\n",
              "      <td>...</td>\n",
              "      <td>...</td>\n",
              "      <td>...</td>\n",
              "      <td>...</td>\n",
              "      <td>...</td>\n",
              "      <td>...</td>\n",
              "      <td>...</td>\n",
              "      <td>...</td>\n",
              "      <td>...</td>\n",
              "      <td>...</td>\n",
              "      <td>...</td>\n",
              "    </tr>\n",
              "    <tr>\n",
              "      <th>616</th>\n",
              "      <td>LP002978</td>\n",
              "      <td>1976-03-25</td>\n",
              "      <td>6.285650e+11</td>\n",
              "      <td>Female</td>\n",
              "      <td>No</td>\n",
              "      <td>0</td>\n",
              "      <td>Graduate</td>\n",
              "      <td>No</td>\n",
              "      <td>2900.0</td>\n",
              "      <td>0.0</td>\n",
              "      <td>71000</td>\n",
              "      <td>360</td>\n",
              "      <td>30</td>\n",
              "      <td>1.0</td>\n",
              "      <td>studio</td>\n",
              "      <td>APPROVE</td>\n",
              "    </tr>\n",
              "    <tr>\n",
              "      <th>617</th>\n",
              "      <td>LP002979</td>\n",
              "      <td>1987-01-26</td>\n",
              "      <td>6.281165e+11</td>\n",
              "      <td>Male</td>\n",
              "      <td>Yes</td>\n",
              "      <td>3+</td>\n",
              "      <td>Graduate</td>\n",
              "      <td>No</td>\n",
              "      <td>4106.0</td>\n",
              "      <td>0.0</td>\n",
              "      <td>40000</td>\n",
              "      <td>180</td>\n",
              "      <td>15</td>\n",
              "      <td>1.0</td>\n",
              "      <td>studio</td>\n",
              "      <td>APPROVE</td>\n",
              "    </tr>\n",
              "    <tr>\n",
              "      <th>618</th>\n",
              "      <td>LP002983</td>\n",
              "      <td>1982-03-08</td>\n",
              "      <td>6.281158e+11</td>\n",
              "      <td>Male</td>\n",
              "      <td>Yes</td>\n",
              "      <td>1</td>\n",
              "      <td>Graduate</td>\n",
              "      <td>No</td>\n",
              "      <td>8072.0</td>\n",
              "      <td>240.0</td>\n",
              "      <td>253000</td>\n",
              "      <td>360</td>\n",
              "      <td>30</td>\n",
              "      <td>1.0</td>\n",
              "      <td>house</td>\n",
              "      <td>APPROVE</td>\n",
              "    </tr>\n",
              "    <tr>\n",
              "      <th>619</th>\n",
              "      <td>LP002984</td>\n",
              "      <td>1986-12-05</td>\n",
              "      <td>6.281196e+11</td>\n",
              "      <td>Male</td>\n",
              "      <td>Yes</td>\n",
              "      <td>2</td>\n",
              "      <td>Graduate</td>\n",
              "      <td>No</td>\n",
              "      <td>7583.0</td>\n",
              "      <td>0.0</td>\n",
              "      <td>187000</td>\n",
              "      <td>360</td>\n",
              "      <td>30</td>\n",
              "      <td>1.0</td>\n",
              "      <td>house</td>\n",
              "      <td>APPROVE</td>\n",
              "    </tr>\n",
              "    <tr>\n",
              "      <th>620</th>\n",
              "      <td>LP002990</td>\n",
              "      <td>NaT</td>\n",
              "      <td>6.281396e+11</td>\n",
              "      <td>Female</td>\n",
              "      <td>No</td>\n",
              "      <td>0</td>\n",
              "      <td>Graduate</td>\n",
              "      <td>Yes</td>\n",
              "      <td>4583.0</td>\n",
              "      <td>0.0</td>\n",
              "      <td>133000</td>\n",
              "      <td>360</td>\n",
              "      <td>30</td>\n",
              "      <td>0.0</td>\n",
              "      <td>apartment</td>\n",
              "      <td>REJECT</td>\n",
              "    </tr>\n",
              "  </tbody>\n",
              "</table>\n",
              "<p>621 rows × 16 columns</p>\n",
              "</div>\n",
              "      <button class=\"colab-df-convert\" onclick=\"convertToInteractive('df-1ba77e69-cb19-48f4-a4b9-5f00df3ccaa5')\"\n",
              "              title=\"Convert this dataframe to an interactive table.\"\n",
              "              style=\"display:none;\">\n",
              "        \n",
              "  <svg xmlns=\"http://www.w3.org/2000/svg\" height=\"24px\"viewBox=\"0 0 24 24\"\n",
              "       width=\"24px\">\n",
              "    <path d=\"M0 0h24v24H0V0z\" fill=\"none\"/>\n",
              "    <path d=\"M18.56 5.44l.94 2.06.94-2.06 2.06-.94-2.06-.94-.94-2.06-.94 2.06-2.06.94zm-11 1L8.5 8.5l.94-2.06 2.06-.94-2.06-.94L8.5 2.5l-.94 2.06-2.06.94zm10 10l.94 2.06.94-2.06 2.06-.94-2.06-.94-.94-2.06-.94 2.06-2.06.94z\"/><path d=\"M17.41 7.96l-1.37-1.37c-.4-.4-.92-.59-1.43-.59-.52 0-1.04.2-1.43.59L10.3 9.45l-7.72 7.72c-.78.78-.78 2.05 0 2.83L4 21.41c.39.39.9.59 1.41.59.51 0 1.02-.2 1.41-.59l7.78-7.78 2.81-2.81c.8-.78.8-2.07 0-2.86zM5.41 20L4 18.59l7.72-7.72 1.47 1.35L5.41 20z\"/>\n",
              "  </svg>\n",
              "      </button>\n",
              "      \n",
              "  <style>\n",
              "    .colab-df-container {\n",
              "      display:flex;\n",
              "      flex-wrap:wrap;\n",
              "      gap: 12px;\n",
              "    }\n",
              "\n",
              "    .colab-df-convert {\n",
              "      background-color: #E8F0FE;\n",
              "      border: none;\n",
              "      border-radius: 50%;\n",
              "      cursor: pointer;\n",
              "      display: none;\n",
              "      fill: #1967D2;\n",
              "      height: 32px;\n",
              "      padding: 0 0 0 0;\n",
              "      width: 32px;\n",
              "    }\n",
              "\n",
              "    .colab-df-convert:hover {\n",
              "      background-color: #E2EBFA;\n",
              "      box-shadow: 0px 1px 2px rgba(60, 64, 67, 0.3), 0px 1px 3px 1px rgba(60, 64, 67, 0.15);\n",
              "      fill: #174EA6;\n",
              "    }\n",
              "\n",
              "    [theme=dark] .colab-df-convert {\n",
              "      background-color: #3B4455;\n",
              "      fill: #D2E3FC;\n",
              "    }\n",
              "\n",
              "    [theme=dark] .colab-df-convert:hover {\n",
              "      background-color: #434B5C;\n",
              "      box-shadow: 0px 1px 3px 1px rgba(0, 0, 0, 0.15);\n",
              "      filter: drop-shadow(0px 1px 2px rgba(0, 0, 0, 0.3));\n",
              "      fill: #FFFFFF;\n",
              "    }\n",
              "  </style>\n",
              "\n",
              "      <script>\n",
              "        const buttonEl =\n",
              "          document.querySelector('#df-1ba77e69-cb19-48f4-a4b9-5f00df3ccaa5 button.colab-df-convert');\n",
              "        buttonEl.style.display =\n",
              "          google.colab.kernel.accessAllowed ? 'block' : 'none';\n",
              "\n",
              "        async function convertToInteractive(key) {\n",
              "          const element = document.querySelector('#df-1ba77e69-cb19-48f4-a4b9-5f00df3ccaa5');\n",
              "          const dataTable =\n",
              "            await google.colab.kernel.invokeFunction('convertToInteractive',\n",
              "                                                     [key], {});\n",
              "          if (!dataTable) return;\n",
              "\n",
              "          const docLinkHtml = 'Like what you see? Visit the ' +\n",
              "            '<a target=\"_blank\" href=https://colab.research.google.com/notebooks/data_table.ipynb>data table notebook</a>'\n",
              "            + ' to learn more about interactive tables.';\n",
              "          element.innerHTML = '';\n",
              "          dataTable['output_type'] = 'display_data';\n",
              "          await google.colab.output.renderOutput(dataTable, element);\n",
              "          const docLink = document.createElement('div');\n",
              "          docLink.innerHTML = docLinkHtml;\n",
              "          element.appendChild(docLink);\n",
              "        }\n",
              "      </script>\n",
              "    </div>\n",
              "  </div>\n",
              "  "
            ]
          },
          "metadata": {},
          "execution_count": 9
        }
      ],
      "source": [
        "df"
      ]
    },
    {
      "cell_type": "markdown",
      "id": "2cd6ecfb",
      "metadata": {
        "id": "2cd6ecfb"
      },
      "source": [
        "Untuk data kosong lainnya, kita bisa menggunakan teknik 1 untuk mengatasi data kosong yakni dengan menghapusnya \\\n",
        "Sebelum dihapus mari kita lihat berapa dimensi dari datasetnya"
      ]
    },
    {
      "cell_type": "code",
      "execution_count": 10,
      "id": "d52a1bad",
      "metadata": {
        "id": "d52a1bad",
        "outputId": "d7e2f5c5-af00-478f-8381-164b5422035c",
        "colab": {
          "base_uri": "https://localhost:8080/"
        }
      },
      "outputs": [
        {
          "output_type": "execute_result",
          "data": {
            "text/plain": [
              "(621, 16)"
            ]
          },
          "metadata": {},
          "execution_count": 10
        }
      ],
      "source": [
        "df.shape"
      ]
    },
    {
      "cell_type": "markdown",
      "id": "003ff8bb",
      "metadata": {
        "id": "003ff8bb"
      },
      "source": [
        "Masih seperti awal, terdapat 621 baris dan kemudian kita hapus data yang kosong kemudian cek kembali dimensinya"
      ]
    },
    {
      "cell_type": "code",
      "execution_count": 12,
      "id": "7770fcfd",
      "metadata": {
        "id": "7770fcfd",
        "outputId": "d9ce6546-b25c-4e0c-d6ca-416dd5cd0308",
        "colab": {
          "base_uri": "https://localhost:8080/"
        }
      },
      "outputs": [
        {
          "output_type": "execute_result",
          "data": {
            "text/plain": [
              "(434, 16)"
            ]
          },
          "metadata": {},
          "execution_count": 12
        }
      ],
      "source": [
        "df.dropna(inplace=True)\n",
        "df.shape"
      ]
    },
    {
      "cell_type": "markdown",
      "id": "1bae08a5",
      "metadata": {
        "id": "1bae08a5"
      },
      "source": [
        "Setelah dilakukan penghapusan data yang kosong, kini data menjadi 434 baris\\\n",
        "Supaya lebih meyakinkan mari kita check lagi datanya, apakah masih ada yang kosong?"
      ]
    },
    {
      "cell_type": "code",
      "execution_count": 11,
      "id": "37b101cc",
      "metadata": {
        "id": "37b101cc",
        "outputId": "0f01de13-202f-4fd9-976b-c6332cfeb050",
        "colab": {
          "base_uri": "https://localhost:8080/"
        }
      },
      "outputs": [
        {
          "output_type": "execute_result",
          "data": {
            "text/plain": [
              "loan_id                0\n",
              "birth_date            49\n",
              "phone_number          52\n",
              "gender                13\n",
              "married                3\n",
              "dependents            16\n",
              "education              1\n",
              "self_employed         33\n",
              "applicant_income       9\n",
              "coapplicant_income     0\n",
              "loan_amount            0\n",
              "loan_term_month        0\n",
              "loan_term_year         0\n",
              "credit_history        51\n",
              "property_type          1\n",
              "loan_status            0\n",
              "dtype: int64"
            ]
          },
          "metadata": {},
          "execution_count": 11
        }
      ],
      "source": [
        "df.isnull().sum()"
      ]
    },
    {
      "cell_type": "markdown",
      "id": "c55bba60",
      "metadata": {
        "id": "c55bba60"
      },
      "source": [
        "Data sudah tidak ada yg null lagi "
      ]
    },
    {
      "cell_type": "markdown",
      "id": "d75d760e",
      "metadata": {
        "id": "d75d760e"
      },
      "source": [
        "## Handling duplicated data"
      ]
    },
    {
      "cell_type": "code",
      "execution_count": 13,
      "id": "fe8cc99c",
      "metadata": {
        "id": "fe8cc99c",
        "outputId": "65ba3fc9-718f-4ebe-a86f-ff30864f211f",
        "colab": {
          "base_uri": "https://localhost:8080/"
        }
      },
      "outputs": [
        {
          "output_type": "execute_result",
          "data": {
            "text/plain": [
              "5"
            ]
          },
          "metadata": {},
          "execution_count": 13
        }
      ],
      "source": [
        "df.duplicated().sum()"
      ]
    },
    {
      "cell_type": "markdown",
      "id": "fcd16b30",
      "metadata": {
        "id": "fcd16b30"
      },
      "source": [
        "Selanjutnya, kita hapus data yang duplikat"
      ]
    },
    {
      "cell_type": "code",
      "execution_count": 14,
      "id": "c2fb029e",
      "metadata": {
        "id": "c2fb029e",
        "outputId": "7f3be98e-dd30-4f92-aae8-591743b94eb5",
        "colab": {
          "base_uri": "https://localhost:8080/"
        }
      },
      "outputs": [
        {
          "output_type": "stream",
          "name": "stdout",
          "text": [
            "Jumlah data duplikat\n",
            "5\n",
            "Jumlah data duplikat setelah dihapus\n",
            "0\n"
          ]
        }
      ],
      "source": [
        "print('Jumlah data duplikat')\n",
        "print(df.duplicated().sum())\n",
        "print('Jumlah data duplikat setelah dihapus')\n",
        "df.drop_duplicates(inplace=True)\n",
        "print(df.duplicated().sum())"
      ]
    },
    {
      "cell_type": "markdown",
      "id": "d36e5f47",
      "metadata": {
        "id": "d36e5f47"
      },
      "source": [
        "Data nya sudah tidak ada yang duplikat lagi "
      ]
    },
    {
      "cell_type": "markdown",
      "id": "a73632f3",
      "metadata": {
        "id": "a73632f3"
      },
      "source": [
        "## Outlier handlings"
      ]
    },
    {
      "cell_type": "markdown",
      "id": "8c693225",
      "metadata": {
        "id": "8c693225"
      },
      "source": [
        "### applicant_income"
      ]
    },
    {
      "cell_type": "markdown",
      "id": "47b1a1aa",
      "metadata": {
        "id": "47b1a1aa"
      },
      "source": [
        "Untuk mengecek apakah ada outlier yang sangat mempengaruhi data maka kita bisa melihatnya dengan menggunakan boxplot seperti di bawah ini. Data tersebut terlihat tidak normal dikarenakan adanya outlier."
      ]
    },
    {
      "cell_type": "code",
      "execution_count": 15,
      "id": "a0361a44",
      "metadata": {
        "id": "a0361a44",
        "outputId": "f79247d1-7189-422f-f0d5-4c3e52c65192",
        "colab": {
          "base_uri": "https://localhost:8080/",
          "height": 297
        }
      },
      "outputs": [
        {
          "output_type": "execute_result",
          "data": {
            "text/plain": [
              "<matplotlib.axes._subplots.AxesSubplot at 0x7fd1f2c3b400>"
            ]
          },
          "metadata": {},
          "execution_count": 15
        },
        {
          "output_type": "display_data",
          "data": {
            "text/plain": [
              "<Figure size 432x288 with 1 Axes>"
            ],
            "image/png": "[encoded data removed]"
          },
          "metadata": {
            "needs_background": "light"
          }
        }
      ],
      "source": [
        "sns.boxplot(x='applicant_income', data=df)"
      ]
    },
    {
      "cell_type": "code",
      "execution_count": 16,
      "id": "d8ba09e0",
      "metadata": {
        "id": "d8ba09e0",
        "outputId": "848cc817-f0f8-40bd-b674-c1adbce16f5c",
        "colab": {
          "base_uri": "https://localhost:8080/"
        }
      },
      "outputs": [
        {
          "output_type": "stream",
          "name": "stdout",
          "text": [
            "Jumlah baris sebelum memfilter outlier: 429\n",
            "Jumlah baris setelah memfilter outlier: 397\n"
          ]
        }
      ],
      "source": [
        "print('Jumlah baris sebelum memfilter outlier:', len(df))\n",
        "\n",
        "Q1 = df['applicant_income'].quantile(0.25)\n",
        "Q3 = df['applicant_income'].quantile(0.75)\n",
        "\n",
        "IQR = Q3-Q1\n",
        "\n",
        "low_limit = Q1 - 1.5*IQR\n",
        "high_limit = Q3 + 1.5*IQR\n",
        "\n",
        "df = df[(df[\"applicant_income\"] >= low_limit) &\n",
        "        (df[\"applicant_income\"] <= high_limit)\n",
        "        ]\n",
        "\n",
        "print(f'Jumlah baris setelah memfilter outlier: {len(df)}')"
      ]
    },
    {
      "cell_type": "markdown",
      "id": "f81cf2d4",
      "metadata": {
        "id": "f81cf2d4"
      },
      "source": [
        "Setelah data difilter dari outlier, maka persebaran data menjadi lebih merata seperti di bawah ini"
      ]
    },
    {
      "cell_type": "code",
      "execution_count": 17,
      "id": "4eb36b41",
      "metadata": {
        "id": "4eb36b41",
        "outputId": "d07dd930-6ce0-4f2b-b573-2dbadf5bab58",
        "colab": {
          "base_uri": "https://localhost:8080/",
          "height": 297
        }
      },
      "outputs": [
        {
          "output_type": "execute_result",
          "data": {
            "text/plain": [
              "<matplotlib.axes._subplots.AxesSubplot at 0x7fd1f2b6c940>"
            ]
          },
          "metadata": {},
          "execution_count": 17
        },
        {
          "output_type": "display_data",
          "data": {
            "text/plain": [
              "<Figure size 432x288 with 1 Axes>"
            ],
            "image/png": "[encoded data removed]"
          },
          "metadata": {
            "needs_background": "light"
          }
        }
      ],
      "source": [
        "sns.boxplot(x='applicant_income', data=df)"
      ]
    },
    {
      "cell_type": "markdown",
      "id": "1955931b",
      "metadata": {
        "id": "1955931b"
      },
      "source": [
        "Lakukan cara yang sama untuk kolom-kolom lainnya yang bertipe numerik"
      ]
    },
    {
      "cell_type": "markdown",
      "id": "db0660e4",
      "metadata": {
        "id": "db0660e4"
      },
      "source": [
        "### coapplicant_income"
      ]
    },
    {
      "cell_type": "code",
      "execution_count": 18,
      "id": "fdc16b63",
      "metadata": {
        "id": "fdc16b63",
        "outputId": "001b5d26-2dc1-4d20-a99d-32d7de8f7c0a",
        "colab": {
          "base_uri": "https://localhost:8080/",
          "height": 297
        }
      },
      "outputs": [
        {
          "output_type": "execute_result",
          "data": {
            "text/plain": [
              "<matplotlib.axes._subplots.AxesSubplot at 0x7fd1f26f8940>"
            ]
          },
          "metadata": {},
          "execution_count": 18
        },
        {
          "output_type": "display_data",
          "data": {
            "text/plain": [
              "<Figure size 432x288 with 1 Axes>"
            ],
            "image/png": "[encoded data removed]"
          },
          "metadata": {
            "needs_background": "light"
          }
        }
      ],
      "source": [
        "sns.boxplot(x='coapplicant_income', data=df)"
      ]
    },
    {
      "cell_type": "code",
      "execution_count": 19,
      "id": "7b38d325",
      "metadata": {
        "id": "7b38d325",
        "outputId": "41b779f0-9b34-4a92-b09b-adc618dbab4f",
        "colab": {
          "base_uri": "https://localhost:8080/"
        }
      },
      "outputs": [
        {
          "output_type": "stream",
          "name": "stdout",
          "text": [
            "Jumlah baris sebelum memfilter outlier: 397\n",
            "Jumlah baris setelah memfilter outlier: 386\n"
          ]
        }
      ],
      "source": [
        "print('Jumlah baris sebelum memfilter outlier:', len(df))\n",
        "\n",
        "Q1 = df['coapplicant_income'].quantile(0.25)\n",
        "Q3 = df['coapplicant_income'].quantile(0.75)\n",
        "\n",
        "IQR = Q3-Q1\n",
        "\n",
        "low_limit = Q1 - 1.5*IQR\n",
        "high_limit = Q3 + 1.5*IQR\n",
        "\n",
        "df = df[(df[\"coapplicant_income\"] >= low_limit) &\n",
        "        (df[\"coapplicant_income\"] <= high_limit)\n",
        "        ]\n",
        "\n",
        "print(f'Jumlah baris setelah memfilter outlier: {len(df)}')"
      ]
    },
    {
      "cell_type": "code",
      "execution_count": 20,
      "id": "dd397f8c",
      "metadata": {
        "id": "dd397f8c",
        "outputId": "98820e96-9aaa-4752-e123-8cdc81a83cbb",
        "colab": {
          "base_uri": "https://localhost:8080/",
          "height": 297
        }
      },
      "outputs": [
        {
          "output_type": "execute_result",
          "data": {
            "text/plain": [
              "<matplotlib.axes._subplots.AxesSubplot at 0x7fd1f2661af0>"
            ]
          },
          "metadata": {},
          "execution_count": 20
        },
        {
          "output_type": "display_data",
          "data": {
            "text/plain": [
              "<Figure size 432x288 with 1 Axes>"
            ],
            "image/png": "[encoded data removed]"
          },
          "metadata": {
            "needs_background": "light"
          }
        }
      ],
      "source": [
        "sns.boxplot(x='applicant_income', data=df)"
      ]
    },
    {
      "cell_type": "markdown",
      "id": "bdace223",
      "metadata": {
        "id": "bdace223"
      },
      "source": [
        "### loan_amount"
      ]
    },
    {
      "cell_type": "code",
      "execution_count": 21,
      "id": "9169f84c",
      "metadata": {
        "id": "9169f84c",
        "outputId": "5700b639-3991-4b79-b72e-fdc303b2ea29",
        "colab": {
          "base_uri": "https://localhost:8080/",
          "height": 297
        }
      },
      "outputs": [
        {
          "output_type": "execute_result",
          "data": {
            "text/plain": [
              "<matplotlib.axes._subplots.AxesSubplot at 0x7fd1f2644730>"
            ]
          },
          "metadata": {},
          "execution_count": 21
        },
        {
          "output_type": "display_data",
          "data": {
            "text/plain": [
              "<Figure size 432x288 with 1 Axes>"
            ],
            "image/png": "[encoded data removed]"
          },
          "metadata": {
            "needs_background": "light"
          }
        }
      ],
      "source": [
        "sns.boxplot(x='loan_amount', data=df)"
      ]
    },
    {
      "cell_type": "code",
      "execution_count": 22,
      "id": "8f811dfb",
      "metadata": {
        "id": "8f811dfb",
        "outputId": "65c64765-f74c-433b-c17d-916218069760",
        "colab": {
          "base_uri": "https://localhost:8080/"
        }
      },
      "outputs": [
        {
          "output_type": "stream",
          "name": "stdout",
          "text": [
            "Jumlah baris sebelum memfilter outlier: 386\n",
            "Jumlah baris setelah memfilter outlier: 366\n"
          ]
        }
      ],
      "source": [
        "print('Jumlah baris sebelum memfilter outlier:', len(df))\n",
        "\n",
        "Q1 = df['loan_amount'].quantile(0.25)\n",
        "Q3 = df['loan_amount'].quantile(0.75)\n",
        "\n",
        "IQR = Q3-Q1\n",
        "\n",
        "low_limit = Q1 - 1.5*IQR\n",
        "high_limit = Q3 + 1.5*IQR\n",
        "\n",
        "df = df[(df[\"loan_amount\"] >= low_limit) &\n",
        "        (df[\"loan_amount\"] <= high_limit)\n",
        "        ]\n",
        "\n",
        "print(f'Jumlah baris setelah memfilter outlier: {len(df)}')"
      ]
    },
    {
      "cell_type": "code",
      "execution_count": 23,
      "id": "7ec6069a",
      "metadata": {
        "id": "7ec6069a",
        "outputId": "9506053d-707a-4172-eda8-c528b920811e",
        "colab": {
          "base_uri": "https://localhost:8080/",
          "height": 297
        }
      },
      "outputs": [
        {
          "output_type": "execute_result",
          "data": {
            "text/plain": [
              "<matplotlib.axes._subplots.AxesSubplot at 0x7fd1f25dfd90>"
            ]
          },
          "metadata": {},
          "execution_count": 23
        },
        {
          "output_type": "display_data",
          "data": {
            "text/plain": [
              "<Figure size 432x288 with 1 Axes>"
            ],
            "image/png": "[encoded data removed]"
          },
          "metadata": {
            "needs_background": "light"
          }
        }
      ],
      "source": [
        "sns.boxplot(x='loan_amount', data=df)"
      ]
    },
    {
      "cell_type": "code",
      "execution_count": 24,
      "id": "6a7dffed",
      "metadata": {
        "id": "6a7dffed",
        "outputId": "dad5a6d3-08ed-4675-dc13-0e267d91da78",
        "colab": {
          "base_uri": "https://localhost:8080/"
        }
      },
      "outputs": [
        {
          "output_type": "execute_result",
          "data": {
            "text/plain": [
              "(366, 16)"
            ]
          },
          "metadata": {},
          "execution_count": 24
        }
      ],
      "source": [
        "# mengecek ukuran data setelah melalui proses filter outlier\n",
        "df.shape"
      ]
    },
    {
      "cell_type": "markdown",
      "id": "14bdb26a",
      "metadata": {
        "id": "14bdb26a"
      },
      "source": [
        "## Feature Encoding"
      ]
    },
    {
      "cell_type": "code",
      "execution_count": 25,
      "id": "60b9cd3c",
      "metadata": {
        "id": "60b9cd3c",
        "outputId": "c3cfe4bd-21d1-4604-f871-0ccdbb9fad92",
        "colab": {
          "base_uri": "https://localhost:8080/"
        }
      },
      "outputs": [
        {
          "output_type": "stream",
          "name": "stdout",
          "text": [
            "Kolom gender ['Male' 'Female']\n",
            "Kolom married ['No' 'Yes']\n",
            "Kolom dependents ['0' '1' '3+' '2']\n",
            "Kolom education ['Graduate' 'Not Graduate']\n",
            "Kolom self_employed ['No' 'Yes']\n",
            "Kolom property_type ['house' 'studio' 'apartment']\n"
          ]
        }
      ],
      "source": [
        "df1 = df.copy()\n",
        "\n",
        "# membuat daftar nama kolom yang bertipe kategorikal\n",
        "cats = ['gender', 'married', 'dependents', 'education', 'self_employed', 'property_type']\n",
        "\n",
        "# melihat kategori dari setiap kolom\n",
        "for i in cats:\n",
        "    print('Kolom', i, df1[i].unique())"
      ]
    },
    {
      "cell_type": "markdown",
      "id": "feb0efe2",
      "metadata": {
        "id": "feb0efe2"
      },
      "source": [
        "Membuat label encoding untuk setiap kategori"
      ]
    },
    {
      "cell_type": "code",
      "execution_count": 26,
      "id": "00718e32",
      "metadata": {
        "id": "00718e32"
      },
      "outputs": [],
      "source": [
        "mapping_gender = {\n",
        "    'Male' : 0,\n",
        "    'Female' : 1\n",
        "}\n",
        "\n",
        "mapping_married = {\n",
        "    'No' : 0,\n",
        "    'Yes' : 1\n",
        "}\n",
        "\n",
        "mapping_dependents = {\n",
        "    '0' : 0,\n",
        "    '1' : 1,\n",
        "    '2' : 2,\n",
        "    '3+' : 3\n",
        "}\n",
        "\n",
        "mapping_education = {\n",
        "    'Not Graduate' : 0,\n",
        "    'Graduate' : 1\n",
        "}\n",
        "\n",
        "mapping_self_employed = {\n",
        "    'No' : 0,\n",
        "    'Yes' : 1\n",
        "}\n",
        "\n",
        "mapping_property_type = {\n",
        "    'house' : 0,\n",
        "    'studio' : 1, \n",
        "    'apartment' : 2\n",
        "}\n",
        "\n",
        "df1['gender'] = df1['gender'].map(mapping_gender)\n",
        "df1['married'] = df1['married'].map(mapping_married)\n",
        "df1['dependents'] = df1['dependents'].map(mapping_dependents)\n",
        "df1['education'] = df1['education'].map(mapping_education)\n",
        "df1['self_employed'] = df1['self_employed'].map(mapping_self_employed)\n",
        "df1['property_type'] = df1['property_type'].map(mapping_property_type)"
      ]
    },
    {
      "cell_type": "code",
      "execution_count": 27,
      "id": "72090f66",
      "metadata": {
        "scrolled": true,
        "id": "72090f66",
        "outputId": "33987c35-8415-4b21-9625-98b254c1b320",
        "colab": {
          "base_uri": "https://localhost:8080/",
          "height": 522
        }
      },
      "outputs": [
        {
          "output_type": "execute_result",
          "data": {
            "text/plain": [
              "      loan_id birth_date  phone_number  gender married dependents  \\\n",
              "0    LP001002 1977-05-15  6.281142e+11    Male      No          0   \n",
              "1    LP001003 1979-08-24  6.287764e+11    Male     Yes          1   \n",
              "2    LP001005 1991-03-28  6.281192e+11    Male     Yes          0   \n",
              "3    LP001006 1980-06-02  6.285634e+10    Male     Yes          0   \n",
              "4    LP001008 1989-05-19  6.281130e+11    Male      No          0   \n",
              "..        ...        ...           ...     ...     ...        ...   \n",
              "614  LP002964 1984-02-27  6.281191e+11    Male     Yes          2   \n",
              "615  LP002974 1988-03-24  6.285739e+11    Male     Yes          0   \n",
              "616  LP002978 1976-03-25  6.285650e+11  Female      No          0   \n",
              "617  LP002979 1987-01-26  6.281165e+11    Male     Yes         3+   \n",
              "619  LP002984 1986-12-05  6.281196e+11    Male     Yes          2   \n",
              "\n",
              "        education self_employed  applicant_income  coapplicant_income  \\\n",
              "0        Graduate            No            5849.0                 0.0   \n",
              "1        Graduate            No            4583.0              1508.0   \n",
              "2        Graduate           Yes            3000.0                 0.0   \n",
              "3    Not Graduate            No            2583.0              2358.0   \n",
              "4        Graduate            No            6000.0                 0.0   \n",
              "..            ...           ...               ...                 ...   \n",
              "614  Not Graduate            No            3987.0              1411.0   \n",
              "615      Graduate            No            3232.0              1950.0   \n",
              "616      Graduate            No            2900.0                 0.0   \n",
              "617      Graduate            No            4106.0                 0.0   \n",
              "619      Graduate            No            7583.0                 0.0   \n",
              "\n",
              "     loan_amount  loan_term_month  loan_term_year  credit_history  \\\n",
              "0         100000              360              30             1.0   \n",
              "1         128000              360              30             1.0   \n",
              "2          66000              360              30             1.0   \n",
              "3         120000              360              30             1.0   \n",
              "4         141000              360              30             1.0   \n",
              "..           ...              ...             ...             ...   \n",
              "614       157000              360              30             1.0   \n",
              "615       108000              360              30             1.0   \n",
              "616        71000              360              30             1.0   \n",
              "617        40000              180              15             1.0   \n",
              "619       187000              360              30             1.0   \n",
              "\n",
              "    property_type loan_status  \n",
              "0           house     APPROVE  \n",
              "1          studio      REJECT  \n",
              "2           house     APPROVE  \n",
              "3           house     APPROVE  \n",
              "4           house     APPROVE  \n",
              "..            ...         ...  \n",
              "614        studio     APPROVE  \n",
              "615        studio     APPROVE  \n",
              "616        studio     APPROVE  \n",
              "617        studio     APPROVE  \n",
              "619         house     APPROVE  \n",
              "\n",
              "[366 rows x 16 columns]"
            ],
            "text/html": [
              "\n",
              "  <div id=\"df-eef9462c-bb89-4513-bc6a-4408f32fcf84\">\n",
              "    <div class=\"colab-df-container\">\n",
              "      <div>\n",
              "<style scoped>\n",
              "    .dataframe tbody tr th:only-of-type {\n",
              "        vertical-align: middle;\n",
              "    }\n",
              "\n",
              "    .dataframe tbody tr th {\n",
              "        vertical-align: top;\n",
              "    }\n",
              "\n",
              "    .dataframe thead th {\n",
              "        text-align: right;\n",
              "    }\n",
              "</style>\n",
              "<table border=\"1\" class=\"dataframe\">\n",
              "  <thead>\n",
              "    <tr style=\"text-align: right;\">\n",
              "      <th></th>\n",
              "      <th>loan_id</th>\n",
              "      <th>birth_date</th>\n",
              "      <th>phone_number</th>\n",
              "      <th>gender</th>\n",
              "      <th>married</th>\n",
              "      <th>dependents</th>\n",
              "      <th>education</th>\n",
              "      <th>self_employed</th>\n",
              "      <th>applicant_income</th>\n",
              "      <th>coapplicant_income</th>\n",
              "      <th>loan_amount</th>\n",
              "      <th>loan_term_month</th>\n",
              "      <th>loan_term_year</th>\n",
              "      <th>credit_history</th>\n",
              "      <th>property_type</th>\n",
              "      <th>loan_status</th>\n",
              "    </tr>\n",
              "  </thead>\n",
              "  <tbody>\n",
              "    <tr>\n",
              "      <th>0</th>\n",
              "      <td>LP001002</td>\n",
              "      <td>1977-05-15</td>\n",
              "      <td>6.281142e+11</td>\n",
              "      <td>Male</td>\n",
              "      <td>No</td>\n",
              "      <td>0</td>\n",
              "      <td>Graduate</td>\n",
              "      <td>No</td>\n",
              "      <td>5849.0</td>\n",
              "      <td>0.0</td>\n",
              "      <td>100000</td>\n",
              "      <td>360</td>\n",
              "      <td>30</td>\n",
              "      <td>1.0</td>\n",
              "      <td>house</td>\n",
              "      <td>APPROVE</td>\n",
              "    </tr>\n",
              "    <tr>\n",
              "      <th>1</th>\n",
              "      <td>LP001003</td>\n",
              "      <td>1979-08-24</td>\n",
              "      <td>6.287764e+11</td>\n",
              "      <td>Male</td>\n",
              "      <td>Yes</td>\n",
              "      <td>1</td>\n",
              "      <td>Graduate</td>\n",
              "      <td>No</td>\n",
              "      <td>4583.0</td>\n",
              "      <td>1508.0</td>\n",
              "      <td>128000</td>\n",
              "      <td>360</td>\n",
              "      <td>30</td>\n",
              "      <td>1.0</td>\n",
              "      <td>studio</td>\n",
              "      <td>REJECT</td>\n",
              "    </tr>\n",
              "    <tr>\n",
              "      <th>2</th>\n",
              "      <td>LP001005</td>\n",
              "      <td>1991-03-28</td>\n",
              "      <td>6.281192e+11</td>\n",
              "      <td>Male</td>\n",
              "      <td>Yes</td>\n",
              "      <td>0</td>\n",
              "      <td>Graduate</td>\n",
              "      <td>Yes</td>\n",
              "      <td>3000.0</td>\n",
              "      <td>0.0</td>\n",
              "      <td>66000</td>\n",
              "      <td>360</td>\n",
              "      <td>30</td>\n",
              "      <td>1.0</td>\n",
              "      <td>house</td>\n",
              "      <td>APPROVE</td>\n",
              "    </tr>\n",
              "    <tr>\n",
              "      <th>3</th>\n",
              "      <td>LP001006</td>\n",
              "      <td>1980-06-02</td>\n",
              "      <td>6.285634e+10</td>\n",
              "      <td>Male</td>\n",
              "      <td>Yes</td>\n",
              "      <td>0</td>\n",
              "      <td>Not Graduate</td>\n",
              "      <td>No</td>\n",
              "      <td>2583.0</td>\n",
              "      <td>2358.0</td>\n",
              "      <td>120000</td>\n",
              "      <td>360</td>\n",
              "      <td>30</td>\n",
              "      <td>1.0</td>\n",
              "      <td>house</td>\n",
              "      <td>APPROVE</td>\n",
              "    </tr>\n",
              "    <tr>\n",
              "      <th>4</th>\n",
              "      <td>LP001008</td>\n",
              "      <td>1989-05-19</td>\n",
              "      <td>6.281130e+11</td>\n",
              "      <td>Male</td>\n",
              "      <td>No</td>\n",
              "      <td>0</td>\n",
              "      <td>Graduate</td>\n",
              "      <td>No</td>\n",
              "      <td>6000.0</td>\n",
              "      <td>0.0</td>\n",
              "      <td>141000</td>\n",
              "      <td>360</td>\n",
              "      <td>30</td>\n",
              "      <td>1.0</td>\n",
              "      <td>house</td>\n",
              "      <td>APPROVE</td>\n",
              "    </tr>\n",
              "    <tr>\n",
              "      <th>...</th>\n",
              "      <td>...</td>\n",
              "      <td>...</td>\n",
              "      <td>...</td>\n",
              "      <td>...</td>\n",
              "      <td>...</td>\n",
              "      <td>...</td>\n",
              "      <td>...</td>\n",
              "      <td>...</td>\n",
              "      <td>...</td>\n",
              "      <td>...</td>\n",
              "      <td>...</td>\n",
              "      <td>...</td>\n",
              "      <td>...</td>\n",
              "      <td>...</td>\n",
              "      <td>...</td>\n",
              "      <td>...</td>\n",
              "    </tr>\n",
              "    <tr>\n",
              "      <th>614</th>\n",
              "      <td>LP002964</td>\n",
              "      <td>1984-02-27</td>\n",
              "      <td>6.281191e+11</td>\n",
              "      <td>Male</td>\n",
              "      <td>Yes</td>\n",
              "      <td>2</td>\n",
              "      <td>Not Graduate</td>\n",
              "      <td>No</td>\n",
              "      <td>3987.0</td>\n",
              "      <td>1411.0</td>\n",
              "      <td>157000</td>\n",
              "      <td>360</td>\n",
              "      <td>30</td>\n",
              "      <td>1.0</td>\n",
              "      <td>studio</td>\n",
              "      <td>APPROVE</td>\n",
              "    </tr>\n",
              "    <tr>\n",
              "      <th>615</th>\n",
              "      <td>LP002974</td>\n",
              "      <td>1988-03-24</td>\n",
              "      <td>6.285739e+11</td>\n",
              "      <td>Male</td>\n",
              "      <td>Yes</td>\n",
              "      <td>0</td>\n",
              "      <td>Graduate</td>\n",
              "      <td>No</td>\n",
              "      <td>3232.0</td>\n",
              "      <td>1950.0</td>\n",
              "      <td>108000</td>\n",
              "      <td>360</td>\n",
              "      <td>30</td>\n",
              "      <td>1.0</td>\n",
              "      <td>studio</td>\n",
              "      <td>APPROVE</td>\n",
              "    </tr>\n",
              "    <tr>\n",
              "      <th>616</th>\n",
              "      <td>LP002978</td>\n",
              "      <td>1976-03-25</td>\n",
              "      <td>6.285650e+11</td>\n",
              "      <td>Female</td>\n",
              "      <td>No</td>\n",
              "      <td>0</td>\n",
              "      <td>Graduate</td>\n",
              "      <td>No</td>\n",
              "      <td>2900.0</td>\n",
              "      <td>0.0</td>\n",
              "      <td>71000</td>\n",
              "      <td>360</td>\n",
              "      <td>30</td>\n",
              "      <td>1.0</td>\n",
              "      <td>studio</td>\n",
              "      <td>APPROVE</td>\n",
              "    </tr>\n",
              "    <tr>\n",
              "      <th>617</th>\n",
              "      <td>LP002979</td>\n",
              "      <td>1987-01-26</td>\n",
              "      <td>6.281165e+11</td>\n",
              "      <td>Male</td>\n",
              "      <td>Yes</td>\n",
              "      <td>3+</td>\n",
              "      <td>Graduate</td>\n",
              "      <td>No</td>\n",
              "      <td>4106.0</td>\n",
              "      <td>0.0</td>\n",
              "      <td>40000</td>\n",
              "      <td>180</td>\n",
              "      <td>15</td>\n",
              "      <td>1.0</td>\n",
              "      <td>studio</td>\n",
              "      <td>APPROVE</td>\n",
              "    </tr>\n",
              "    <tr>\n",
              "      <th>619</th>\n",
              "      <td>LP002984</td>\n",
              "      <td>1986-12-05</td>\n",
              "      <td>6.281196e+11</td>\n",
              "      <td>Male</td>\n",
              "      <td>Yes</td>\n",
              "      <td>2</td>\n",
              "      <td>Graduate</td>\n",
              "      <td>No</td>\n",
              "      <td>7583.0</td>\n",
              "      <td>0.0</td>\n",
              "      <td>187000</td>\n",
              "      <td>360</td>\n",
              "      <td>30</td>\n",
              "      <td>1.0</td>\n",
              "      <td>house</td>\n",
              "      <td>APPROVE</td>\n",
              "    </tr>\n",
              "  </tbody>\n",
              "</table>\n",
              "<p>366 rows × 16 columns</p>\n",
              "</div>\n",
              "      <button class=\"colab-df-convert\" onclick=\"convertToInteractive('df-eef9462c-bb89-4513-bc6a-4408f32fcf84')\"\n",
              "              title=\"Convert this dataframe to an interactive table.\"\n",
              "              style=\"display:none;\">\n",
              "        \n",
              "  <svg xmlns=\"http://www.w3.org/2000/svg\" height=\"24px\"viewBox=\"0 0 24 24\"\n",
              "       width=\"24px\">\n",
              "    <path d=\"M0 0h24v24H0V0z\" fill=\"none\"/>\n",
              "    <path d=\"M18.56 5.44l.94 2.06.94-2.06 2.06-.94-2.06-.94-.94-2.06-.94 2.06-2.06.94zm-11 1L8.5 8.5l.94-2.06 2.06-.94-2.06-.94L8.5 2.5l-.94 2.06-2.06.94zm10 10l.94 2.06.94-2.06 2.06-.94-2.06-.94-.94-2.06-.94 2.06-2.06.94z\"/><path d=\"M17.41 7.96l-1.37-1.37c-.4-.4-.92-.59-1.43-.59-.52 0-1.04.2-1.43.59L10.3 9.45l-7.72 7.72c-.78.78-.78 2.05 0 2.83L4 21.41c.39.39.9.59 1.41.59.51 0 1.02-.2 1.41-.59l7.78-7.78 2.81-2.81c.8-.78.8-2.07 0-2.86zM5.41 20L4 18.59l7.72-7.72 1.47 1.35L5.41 20z\"/>\n",
              "  </svg>\n",
              "      </button>\n",
              "      \n",
              "  <style>\n",
              "    .colab-df-container {\n",
              "      display:flex;\n",
              "      flex-wrap:wrap;\n",
              "      gap: 12px;\n",
              "    }\n",
              "\n",
              "    .colab-df-convert {\n",
              "      background-color: #E8F0FE;\n",
              "      border: none;\n",
              "      border-radius: 50%;\n",
              "      cursor: pointer;\n",
              "      display: none;\n",
              "      fill: #1967D2;\n",
              "      height: 32px;\n",
              "      padding: 0 0 0 0;\n",
              "      width: 32px;\n",
              "    }\n",
              "\n",
              "    .colab-df-convert:hover {\n",
              "      background-color: #E2EBFA;\n",
              "      box-shadow: 0px 1px 2px rgba(60, 64, 67, 0.3), 0px 1px 3px 1px rgba(60, 64, 67, 0.15);\n",
              "      fill: #174EA6;\n",
              "    }\n",
              "\n",
              "    [theme=dark] .colab-df-convert {\n",
              "      background-color: #3B4455;\n",
              "      fill: #D2E3FC;\n",
              "    }\n",
              "\n",
              "    [theme=dark] .colab-df-convert:hover {\n",
              "      background-color: #434B5C;\n",
              "      box-shadow: 0px 1px 3px 1px rgba(0, 0, 0, 0.15);\n",
              "      filter: drop-shadow(0px 1px 2px rgba(0, 0, 0, 0.3));\n",
              "      fill: #FFFFFF;\n",
              "    }\n",
              "  </style>\n",
              "\n",
              "      <script>\n",
              "        const buttonEl =\n",
              "          document.querySelector('#df-eef9462c-bb89-4513-bc6a-4408f32fcf84 button.colab-df-convert');\n",
              "        buttonEl.style.display =\n",
              "          google.colab.kernel.accessAllowed ? 'block' : 'none';\n",
              "\n",
              "        async function convertToInteractive(key) {\n",
              "          const element = document.querySelector('#df-eef9462c-bb89-4513-bc6a-4408f32fcf84');\n",
              "          const dataTable =\n",
              "            await google.colab.kernel.invokeFunction('convertToInteractive',\n",
              "                                                     [key], {});\n",
              "          if (!dataTable) return;\n",
              "\n",
              "          const docLinkHtml = 'Like what you see? Visit the ' +\n",
              "            '<a target=\"_blank\" href=https://colab.research.google.com/notebooks/data_table.ipynb>data table notebook</a>'\n",
              "            + ' to learn more about interactive tables.';\n",
              "          element.innerHTML = '';\n",
              "          dataTable['output_type'] = 'display_data';\n",
              "          await google.colab.output.renderOutput(dataTable, element);\n",
              "          const docLink = document.createElement('div');\n",
              "          docLink.innerHTML = docLinkHtml;\n",
              "          element.appendChild(docLink);\n",
              "        }\n",
              "      </script>\n",
              "    </div>\n",
              "  </div>\n",
              "  "
            ]
          },
          "metadata": {},
          "execution_count": 27
        }
      ],
      "source": [
        "df"
      ]
    },
    {
      "cell_type": "markdown",
      "id": "042df25f",
      "metadata": {
        "id": "042df25f"
      },
      "source": [
        "# Business Insight\n",
        "\n",
        "Diclaimer: tidak ada jawaban benar salah dalam tahap ini. Setiap individu memiliki interpretasi yang berbeda-beda dalam menerjemahkan data menjadi sebuah insight. Feedback ini hanya untuk sharing dan berbagi pandangan dengan harapan bisa membantu pemahaman menjadi lebih baik :)"
      ]
    },
    {
      "cell_type": "markdown",
      "id": "415aad14",
      "metadata": {
        "id": "415aad14"
      },
      "source": [
        "## Analisis minat pelanggan berdasarkan pada tipe properti"
      ]
    },
    {
      "cell_type": "code",
      "execution_count": 28,
      "id": "bb3449a2",
      "metadata": {
        "id": "bb3449a2",
        "outputId": "cec45b61-eec9-4efb-ac58-8c96dce5dbdf",
        "colab": {
          "base_uri": "https://localhost:8080/",
          "height": 237
        }
      },
      "outputs": [
        {
          "output_type": "execute_result",
          "data": {
            "text/plain": [
              "   gender property_type  count\n",
              "0  Female     apartment     34\n",
              "1  Female         house     16\n",
              "2  Female        studio     17\n",
              "3    Male     apartment    114\n",
              "4    Male         house     98\n",
              "5    Male        studio     87"
            ],
            "text/html": [
              "\n",
              "  <div id=\"df-f1605a6f-05ad-442c-841c-9784edd87866\">\n",
              "    <div class=\"colab-df-container\">\n",
              "      <div>\n",
              "<style scoped>\n",
              "    .dataframe tbody tr th:only-of-type {\n",
              "        vertical-align: middle;\n",
              "    }\n",
              "\n",
              "    .dataframe tbody tr th {\n",
              "        vertical-align: top;\n",
              "    }\n",
              "\n",
              "    .dataframe thead th {\n",
              "        text-align: right;\n",
              "    }\n",
              "</style>\n",
              "<table border=\"1\" class=\"dataframe\">\n",
              "  <thead>\n",
              "    <tr style=\"text-align: right;\">\n",
              "      <th></th>\n",
              "      <th>gender</th>\n",
              "      <th>property_type</th>\n",
              "      <th>count</th>\n",
              "    </tr>\n",
              "  </thead>\n",
              "  <tbody>\n",
              "    <tr>\n",
              "      <th>0</th>\n",
              "      <td>Female</td>\n",
              "      <td>apartment</td>\n",
              "      <td>34</td>\n",
              "    </tr>\n",
              "    <tr>\n",
              "      <th>1</th>\n",
              "      <td>Female</td>\n",
              "      <td>house</td>\n",
              "      <td>16</td>\n",
              "    </tr>\n",
              "    <tr>\n",
              "      <th>2</th>\n",
              "      <td>Female</td>\n",
              "      <td>studio</td>\n",
              "      <td>17</td>\n",
              "    </tr>\n",
              "    <tr>\n",
              "      <th>3</th>\n",
              "      <td>Male</td>\n",
              "      <td>apartment</td>\n",
              "      <td>114</td>\n",
              "    </tr>\n",
              "    <tr>\n",
              "      <th>4</th>\n",
              "      <td>Male</td>\n",
              "      <td>house</td>\n",
              "      <td>98</td>\n",
              "    </tr>\n",
              "    <tr>\n",
              "      <th>5</th>\n",
              "      <td>Male</td>\n",
              "      <td>studio</td>\n",
              "      <td>87</td>\n",
              "    </tr>\n",
              "  </tbody>\n",
              "</table>\n",
              "</div>\n",
              "      <button class=\"colab-df-convert\" onclick=\"convertToInteractive('df-f1605a6f-05ad-442c-841c-9784edd87866')\"\n",
              "              title=\"Convert this dataframe to an interactive table.\"\n",
              "              style=\"display:none;\">\n",
              "        \n",
              "  <svg xmlns=\"http://www.w3.org/2000/svg\" height=\"24px\"viewBox=\"0 0 24 24\"\n",
              "       width=\"24px\">\n",
              "    <path d=\"M0 0h24v24H0V0z\" fill=\"none\"/>\n",
              "    <path d=\"M18.56 5.44l.94 2.06.94-2.06 2.06-.94-2.06-.94-.94-2.06-.94 2.06-2.06.94zm-11 1L8.5 8.5l.94-2.06 2.06-.94-2.06-.94L8.5 2.5l-.94 2.06-2.06.94zm10 10l.94 2.06.94-2.06 2.06-.94-2.06-.94-.94-2.06-.94 2.06-2.06.94z\"/><path d=\"M17.41 7.96l-1.37-1.37c-.4-.4-.92-.59-1.43-.59-.52 0-1.04.2-1.43.59L10.3 9.45l-7.72 7.72c-.78.78-.78 2.05 0 2.83L4 21.41c.39.39.9.59 1.41.59.51 0 1.02-.2 1.41-.59l7.78-7.78 2.81-2.81c.8-.78.8-2.07 0-2.86zM5.41 20L4 18.59l7.72-7.72 1.47 1.35L5.41 20z\"/>\n",
              "  </svg>\n",
              "      </button>\n",
              "      \n",
              "  <style>\n",
              "    .colab-df-container {\n",
              "      display:flex;\n",
              "      flex-wrap:wrap;\n",
              "      gap: 12px;\n",
              "    }\n",
              "\n",
              "    .colab-df-convert {\n",
              "      background-color: #E8F0FE;\n",
              "      border: none;\n",
              "      border-radius: 50%;\n",
              "      cursor: pointer;\n",
              "      display: none;\n",
              "      fill: #1967D2;\n",
              "      height: 32px;\n",
              "      padding: 0 0 0 0;\n",
              "      width: 32px;\n",
              "    }\n",
              "\n",
              "    .colab-df-convert:hover {\n",
              "      background-color: #E2EBFA;\n",
              "      box-shadow: 0px 1px 2px rgba(60, 64, 67, 0.3), 0px 1px 3px 1px rgba(60, 64, 67, 0.15);\n",
              "      fill: #174EA6;\n",
              "    }\n",
              "\n",
              "    [theme=dark] .colab-df-convert {\n",
              "      background-color: #3B4455;\n",
              "      fill: #D2E3FC;\n",
              "    }\n",
              "\n",
              "    [theme=dark] .colab-df-convert:hover {\n",
              "      background-color: #434B5C;\n",
              "      box-shadow: 0px 1px 3px 1px rgba(0, 0, 0, 0.15);\n",
              "      filter: drop-shadow(0px 1px 2px rgba(0, 0, 0, 0.3));\n",
              "      fill: #FFFFFF;\n",
              "    }\n",
              "  </style>\n",
              "\n",
              "      <script>\n",
              "        const buttonEl =\n",
              "          document.querySelector('#df-f1605a6f-05ad-442c-841c-9784edd87866 button.colab-df-convert');\n",
              "        buttonEl.style.display =\n",
              "          google.colab.kernel.accessAllowed ? 'block' : 'none';\n",
              "\n",
              "        async function convertToInteractive(key) {\n",
              "          const element = document.querySelector('#df-f1605a6f-05ad-442c-841c-9784edd87866');\n",
              "          const dataTable =\n",
              "            await google.colab.kernel.invokeFunction('convertToInteractive',\n",
              "                                                     [key], {});\n",
              "          if (!dataTable) return;\n",
              "\n",
              "          const docLinkHtml = 'Like what you see? Visit the ' +\n",
              "            '<a target=\"_blank\" href=https://colab.research.google.com/notebooks/data_table.ipynb>data table notebook</a>'\n",
              "            + ' to learn more about interactive tables.';\n",
              "          element.innerHTML = '';\n",
              "          dataTable['output_type'] = 'display_data';\n",
              "          await google.colab.output.renderOutput(dataTable, element);\n",
              "          const docLink = document.createElement('div');\n",
              "          docLink.innerHTML = docLinkHtml;\n",
              "          element.appendChild(docLink);\n",
              "        }\n",
              "      </script>\n",
              "    </div>\n",
              "  </div>\n",
              "  "
            ]
          },
          "metadata": {},
          "execution_count": 28
        }
      ],
      "source": [
        "df_gr1 = df.groupby(['gender', 'property_type'])['loan_id'].count().reset_index()\n",
        "df_gr1.columns = ['gender', 'property_type', 'count']\n",
        "df_gr1"
      ]
    },
    {
      "cell_type": "code",
      "execution_count": 29,
      "id": "8c191e0a",
      "metadata": {
        "id": "8c191e0a",
        "outputId": "b7276ff8-1537-4879-c6b7-887930cfd7d0",
        "colab": {
          "base_uri": "https://localhost:8080/",
          "height": 581
        }
      },
      "outputs": [
        {
          "output_type": "display_data",
          "data": {
            "text/plain": [
              "<Figure size 864x576 with 1 Axes>"
            ],
            "image/png": "[encoded data removed]"
          },
          "metadata": {}
        }
      ],
      "source": [
        "# Dapatkan penjelasan lengkap mengenai data visualization di dalam bootcamp ^^\n",
        "sns.set(style=\"darkgrid\")\n",
        "f, ax = plt.subplots(1,1,figsize=(12,8))\n",
        "sns.countplot(x = 'property_type', data = df, hue = 'gender', palette = \"Set2\")\n",
        "\n",
        "for bar in ax.patches:\n",
        "    bar_value = bar.get_height()\n",
        "    text = f'{bar_value:,}'\n",
        "    text_x = bar.get_x() + bar.get_width() / 2\n",
        "    text_y = bar.get_y() + bar_value\n",
        "    bar_color = bar.get_facecolor()\n",
        "    ax.text(text_x, text_y, text, ha='center', va='bottom', color='black', size=12)\n",
        "    \n",
        "ax.set_xlabel('Property Type', labelpad=15)\n",
        "ax.set_ylabel('Count', labelpad=15)\n",
        "ax.set_title('Apartment is the most popular property type \\nfor both male and female customers', pad=15, size=20)\n",
        "plt.tight_layout() \n",
        "plt.savefig('Analyze_the_behavior_of_loan_property_customers_01.png', dpi=200);"
      ]
    },
    {
      "cell_type": "markdown",
      "id": "e38cf2d2",
      "metadata": {
        "id": "e38cf2d2"
      },
      "source": [
        "## Analisis pengaruh status perkawinan terhadap jangka waktu meminjam "
      ]
    },
    {
      "cell_type": "code",
      "execution_count": 30,
      "id": "8a6a3656",
      "metadata": {
        "id": "8a6a3656",
        "outputId": "4f88845b-f961-482b-e6a7-ef9acebe6865",
        "colab": {
          "base_uri": "https://localhost:8080/",
          "height": 520
        }
      },
      "outputs": [
        {
          "output_type": "execute_result",
          "data": {
            "text/plain": [
              "   married  loan_term_year  number_of_applicant\n",
              "0       No               3                    2\n",
              "1       No               5                    1\n",
              "2       No              10                    1\n",
              "3       No              15                    4\n",
              "4       No              25                    3\n",
              "5       No              30                  119\n",
              "6       No              40                    6\n",
              "7      Yes               5                    1\n",
              "8      Yes               7                    3\n",
              "9      Yes              10                    1\n",
              "10     Yes              15                   22\n",
              "11     Yes              20                    2\n",
              "12     Yes              25                    5\n",
              "13     Yes              30                  191\n",
              "14     Yes              40                    5"
            ],
            "text/html": [
              "\n",
              "  <div id=\"df-aebd2dd6-b367-4d41-ae5e-446f3d19523c\">\n",
              "    <div class=\"colab-df-container\">\n",
              "      <div>\n",
              "<style scoped>\n",
              "    .dataframe tbody tr th:only-of-type {\n",
              "        vertical-align: middle;\n",
              "    }\n",
              "\n",
              "    .dataframe tbody tr th {\n",
              "        vertical-align: top;\n",
              "    }\n",
              "\n",
              "    .dataframe thead th {\n",
              "        text-align: right;\n",
              "    }\n",
              "</style>\n",
              "<table border=\"1\" class=\"dataframe\">\n",
              "  <thead>\n",
              "    <tr style=\"text-align: right;\">\n",
              "      <th></th>\n",
              "      <th>married</th>\n",
              "      <th>loan_term_year</th>\n",
              "      <th>number_of_applicant</th>\n",
              "    </tr>\n",
              "  </thead>\n",
              "  <tbody>\n",
              "    <tr>\n",
              "      <th>0</th>\n",
              "      <td>No</td>\n",
              "      <td>3</td>\n",
              "      <td>2</td>\n",
              "    </tr>\n",
              "    <tr>\n",
              "      <th>1</th>\n",
              "      <td>No</td>\n",
              "      <td>5</td>\n",
              "      <td>1</td>\n",
              "    </tr>\n",
              "    <tr>\n",
              "      <th>2</th>\n",
              "      <td>No</td>\n",
              "      <td>10</td>\n",
              "      <td>1</td>\n",
              "    </tr>\n",
              "    <tr>\n",
              "      <th>3</th>\n",
              "      <td>No</td>\n",
              "      <td>15</td>\n",
              "      <td>4</td>\n",
              "    </tr>\n",
              "    <tr>\n",
              "      <th>4</th>\n",
              "      <td>No</td>\n",
              "      <td>25</td>\n",
              "      <td>3</td>\n",
              "    </tr>\n",
              "    <tr>\n",
              "      <th>5</th>\n",
              "      <td>No</td>\n",
              "      <td>30</td>\n",
              "      <td>119</td>\n",
              "    </tr>\n",
              "    <tr>\n",
              "      <th>6</th>\n",
              "      <td>No</td>\n",
              "      <td>40</td>\n",
              "      <td>6</td>\n",
              "    </tr>\n",
              "    <tr>\n",
              "      <th>7</th>\n",
              "      <td>Yes</td>\n",
              "      <td>5</td>\n",
              "      <td>1</td>\n",
              "    </tr>\n",
              "    <tr>\n",
              "      <th>8</th>\n",
              "      <td>Yes</td>\n",
              "      <td>7</td>\n",
              "      <td>3</td>\n",
              "    </tr>\n",
              "    <tr>\n",
              "      <th>9</th>\n",
              "      <td>Yes</td>\n",
              "      <td>10</td>\n",
              "      <td>1</td>\n",
              "    </tr>\n",
              "    <tr>\n",
              "      <th>10</th>\n",
              "      <td>Yes</td>\n",
              "      <td>15</td>\n",
              "      <td>22</td>\n",
              "    </tr>\n",
              "    <tr>\n",
              "      <th>11</th>\n",
              "      <td>Yes</td>\n",
              "      <td>20</td>\n",
              "      <td>2</td>\n",
              "    </tr>\n",
              "    <tr>\n",
              "      <th>12</th>\n",
              "      <td>Yes</td>\n",
              "      <td>25</td>\n",
              "      <td>5</td>\n",
              "    </tr>\n",
              "    <tr>\n",
              "      <th>13</th>\n",
              "      <td>Yes</td>\n",
              "      <td>30</td>\n",
              "      <td>191</td>\n",
              "    </tr>\n",
              "    <tr>\n",
              "      <th>14</th>\n",
              "      <td>Yes</td>\n",
              "      <td>40</td>\n",
              "      <td>5</td>\n",
              "    </tr>\n",
              "  </tbody>\n",
              "</table>\n",
              "</div>\n",
              "      <button class=\"colab-df-convert\" onclick=\"convertToInteractive('df-aebd2dd6-b367-4d41-ae5e-446f3d19523c')\"\n",
              "              title=\"Convert this dataframe to an interactive table.\"\n",
              "              style=\"display:none;\">\n",
              "        \n",
              "  <svg xmlns=\"http://www.w3.org/2000/svg\" height=\"24px\"viewBox=\"0 0 24 24\"\n",
              "       width=\"24px\">\n",
              "    <path d=\"M0 0h24v24H0V0z\" fill=\"none\"/>\n",
              "    <path d=\"M18.56 5.44l.94 2.06.94-2.06 2.06-.94-2.06-.94-.94-2.06-.94 2.06-2.06.94zm-11 1L8.5 8.5l.94-2.06 2.06-.94-2.06-.94L8.5 2.5l-.94 2.06-2.06.94zm10 10l.94 2.06.94-2.06 2.06-.94-2.06-.94-.94-2.06-.94 2.06-2.06.94z\"/><path d=\"M17.41 7.96l-1.37-1.37c-.4-.4-.92-.59-1.43-.59-.52 0-1.04.2-1.43.59L10.3 9.45l-7.72 7.72c-.78.78-.78 2.05 0 2.83L4 21.41c.39.39.9.59 1.41.59.51 0 1.02-.2 1.41-.59l7.78-7.78 2.81-2.81c.8-.78.8-2.07 0-2.86zM5.41 20L4 18.59l7.72-7.72 1.47 1.35L5.41 20z\"/>\n",
              "  </svg>\n",
              "      </button>\n",
              "      \n",
              "  <style>\n",
              "    .colab-df-container {\n",
              "      display:flex;\n",
              "      flex-wrap:wrap;\n",
              "      gap: 12px;\n",
              "    }\n",
              "\n",
              "    .colab-df-convert {\n",
              "      background-color: #E8F0FE;\n",
              "      border: none;\n",
              "      border-radius: 50%;\n",
              "      cursor: pointer;\n",
              "      display: none;\n",
              "      fill: #1967D2;\n",
              "      height: 32px;\n",
              "      padding: 0 0 0 0;\n",
              "      width: 32px;\n",
              "    }\n",
              "\n",
              "    .colab-df-convert:hover {\n",
              "      background-color: #E2EBFA;\n",
              "      box-shadow: 0px 1px 2px rgba(60, 64, 67, 0.3), 0px 1px 3px 1px rgba(60, 64, 67, 0.15);\n",
              "      fill: #174EA6;\n",
              "    }\n",
              "\n",
              "    [theme=dark] .colab-df-convert {\n",
              "      background-color: #3B4455;\n",
              "      fill: #D2E3FC;\n",
              "    }\n",
              "\n",
              "    [theme=dark] .colab-df-convert:hover {\n",
              "      background-color: #434B5C;\n",
              "      box-shadow: 0px 1px 3px 1px rgba(0, 0, 0, 0.15);\n",
              "      filter: drop-shadow(0px 1px 2px rgba(0, 0, 0, 0.3));\n",
              "      fill: #FFFFFF;\n",
              "    }\n",
              "  </style>\n",
              "\n",
              "      <script>\n",
              "        const buttonEl =\n",
              "          document.querySelector('#df-aebd2dd6-b367-4d41-ae5e-446f3d19523c button.colab-df-convert');\n",
              "        buttonEl.style.display =\n",
              "          google.colab.kernel.accessAllowed ? 'block' : 'none';\n",
              "\n",
              "        async function convertToInteractive(key) {\n",
              "          const element = document.querySelector('#df-aebd2dd6-b367-4d41-ae5e-446f3d19523c');\n",
              "          const dataTable =\n",
              "            await google.colab.kernel.invokeFunction('convertToInteractive',\n",
              "                                                     [key], {});\n",
              "          if (!dataTable) return;\n",
              "\n",
              "          const docLinkHtml = 'Like what you see? Visit the ' +\n",
              "            '<a target=\"_blank\" href=https://colab.research.google.com/notebooks/data_table.ipynb>data table notebook</a>'\n",
              "            + ' to learn more about interactive tables.';\n",
              "          element.innerHTML = '';\n",
              "          dataTable['output_type'] = 'display_data';\n",
              "          await google.colab.output.renderOutput(dataTable, element);\n",
              "          const docLink = document.createElement('div');\n",
              "          docLink.innerHTML = docLinkHtml;\n",
              "          element.appendChild(docLink);\n",
              "        }\n",
              "      </script>\n",
              "    </div>\n",
              "  </div>\n",
              "  "
            ]
          },
          "metadata": {},
          "execution_count": 30
        }
      ],
      "source": [
        "df_gr2 = df.groupby(['married', 'loan_term_year'])['loan_id'].count().reset_index()\n",
        "df_gr2.columns = ['married', 'loan_term_year', 'number_of_applicant']\n",
        "df_gr2"
      ]
    },
    {
      "cell_type": "markdown",
      "id": "23c1a47d",
      "metadata": {
        "id": "23c1a47d"
      },
      "source": [
        "Data di atas menunjukkan perbedaan kategori dalam data waktu lama meminjam. Oleh karena itu perlu dilakukan grouping untuk membuat kategori lama waktu meminjam menjadi seragam antara pelanggan menikah dan belum menikah, sehingga kita bisa melihat terlebih dahulu persebaran datanya"
      ]
    },
    {
      "cell_type": "code",
      "execution_count": 31,
      "id": "928dfeb5",
      "metadata": {
        "id": "928dfeb5",
        "outputId": "099cde99-2cf5-4899-d56f-08ff7a7ca83e",
        "colab": {
          "base_uri": "https://localhost:8080/",
          "height": 302
        }
      },
      "outputs": [
        {
          "output_type": "execute_result",
          "data": {
            "text/plain": [
              "<matplotlib.axes._subplots.AxesSubplot at 0x7fd1f24e6550>"
            ]
          },
          "metadata": {},
          "execution_count": 31
        },
        {
          "output_type": "display_data",
          "data": {
            "text/plain": [
              "<Figure size 432x288 with 1 Axes>"
            ],
            "image/png": "[encoded data removed]"
          },
          "metadata": {}
        }
      ],
      "source": [
        "sns.histplot(data=df, x=\"loan_term_year\", bins=10, color=\"pink\")"
      ]
    },
    {
      "cell_type": "markdown",
      "id": "045ef03d",
      "metadata": {
        "id": "045ef03d"
      },
      "source": [
        "Berdasarkan grafik di atas, maka kita dapat mengelompokkan data menjadi beberapa kategori yaitu:\n",
        "- `<15`\n",
        "- `15-25`\n",
        "- `30`\n",
        "- `>30`"
      ]
    },
    {
      "cell_type": "code",
      "execution_count": 32,
      "id": "e3cefb9a",
      "metadata": {
        "id": "e3cefb9a"
      },
      "outputs": [],
      "source": [
        "# membuat kategori untuk loan_term_year\n",
        "loan_term_year_group = {}\n",
        "for i in range(1,41):\n",
        "    if i<15:\n",
        "        loan_term_year_group[i]= '<15'\n",
        "    elif i>=15 and i<=25:\n",
        "        loan_term_year_group[i]= '15-25'\n",
        "    elif i==30:\n",
        "        loan_term_year_group[i]= '30'\n",
        "    elif i>30:\n",
        "        loan_term_year_group[i]= '>30'\n",
        "    else:\n",
        "        pass\n",
        "    \n",
        "# membuat kolom baru berdasarkan pada grouping sebelumnya\n",
        "df_gr2['loan_term_year_group'] = df_gr2['loan_term_year'].replace(loan_term_year_group)"
      ]
    },
    {
      "cell_type": "code",
      "execution_count": 33,
      "id": "c02b3270",
      "metadata": {
        "id": "c02b3270",
        "outputId": "467cd282-da48-4463-e558-c4f682f553f8",
        "colab": {
          "base_uri": "https://localhost:8080/",
          "height": 659
        }
      },
      "outputs": [
        {
          "output_type": "execute_result",
          "data": {
            "text/plain": [
              "Text(-0.5, 205, 'Most applicants who are married or not have chosen a loan term of 30 years')"
            ]
          },
          "metadata": {},
          "execution_count": 33
        },
        {
          "output_type": "display_data",
          "data": {
            "text/plain": [
              "<Figure size 1080x720 with 1 Axes>"
            ],
            "image/png": "[encoded data removed]"
          },
          "metadata": {}
        }
      ],
      "source": [
        "# Dapatkan penjelasan lengkap mengenai data visualization di dalam bootcamp ^^\n",
        "plt.figure(figsize=(15,10))\n",
        "sns.barplot(x='loan_term_year_group', y='number_of_applicant', hue='married', data=df_gr2)\n",
        "\n",
        "plt.tick_params(axis='both', which='major', labelsize=12)\n",
        "plt.grid()\n",
        "plt.legend(title='Married Status', title_fontsize=14, prop={'size':12}, loc=9)\n",
        "\n",
        "plt.xlabel('Loan Term Group (in Year)', fontsize=14)\n",
        "plt.ylabel('Number of Applicant', fontsize=14)\n",
        "plt.text(x=-0.5, y=205, s=\"Most applicants who are married or not have chosen a loan term of 30 years\", \n",
        "         fontsize=20, fontweight='bold') "
      ]
    },
    {
      "cell_type": "markdown",
      "id": "b69210fe",
      "metadata": {
        "id": "b69210fe"
      },
      "source": [
        "### Kesimpulan"
      ]
    },
    {
      "cell_type": "markdown",
      "id": "6d08a2a9",
      "metadata": {
        "id": "6d08a2a9"
      },
      "source": [
        "Berdasarkan pada pengamatan yang dilakukan, dapat disimpulkan bahwa perilaku pelanggan baik perempuan atau laki-laki kebanyakan mengajukan pinjaman untuk tipe properti apartemen. Kemudian jika dilihat dari status perkawinan, pelanggan yang sudah menikah ataupun belum menikah merasa jangka waktu ideal dalam meminjam adalah selama 30 tahun. Selain itu ada pula hal yang menarik untuk pelanggan yang sudah menikah, terlihat beberapa pelanggan tertarik meminjam dengan jangka waktu 15-25 tahun. Kemungkinan hal ini terjadi karena bagi beberapa pelanggan yang sudah menikah kemungkinan suami dan istri memiliki penghasilan, sehingga jangka waktu 15-25 tahun dirasa ideal pula. \n"
      ]
    },
    {
      "cell_type": "markdown",
      "source": [
        "--Collaborate with Rakamin Academy Course--"
      ],
      "metadata": {
        "id": "hIWL2wXlSIFf"
      },
      "id": "hIWL2wXlSIFf"
    }
  ],
  "metadata": {
    "kernelspec": {
      "display_name": "Python 3 (ipykernel)",
      "language": "python",
      "name": "python3"
    },
    "language_info": {
      "codemirror_mode": {
        "name": "ipython",
        "version": 3
      },
      "file_extension": ".py",
      "mimetype": "text/x-python",
      "name": "python",
      "nbconvert_exporter": "python",
      "pygments_lexer": "ipython3",
      "version": "3.9.6"
    },
    "colab": {
      "provenance": [],
      "include_colab_link": true
    }
  },
  "nbformat": 4,
  "nbformat_minor": 5
}